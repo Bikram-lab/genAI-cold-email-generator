{
 "cells": [
  {
   "cell_type": "code",
   "execution_count": 7,
   "id": "48cc21ab-b90e-48f9-8129-5d372b36369f",
   "metadata": {},
   "outputs": [
    {
     "name": "stdout",
     "output_type": "stream",
     "text": [
      "The first person to land on the moon was Neil Armstrong. He stepped out of the lunar module Eagle and onto the moon's surface on July 20, 1969, during the Apollo 11 mission.\n"
     ]
    }
   ],
   "source": [
    "from langchain_groq import ChatGroq\n",
    "\n",
    "llm = ChatGroq(\n",
    "    temperature=0,\n",
    "    groq_api_key='dummy',\n",
    "    model_name='llama-3.1-8b-instant'\n",
    ")\n",
    "response = llm.invoke(\"The first person to land on moon was?\")\n",
    "print(response.content)"
   ]
  },
  {
   "cell_type": "code",
   "execution_count": 11,
   "id": "9de15934-ff9f-492e-8861-45e8c2215f3e",
   "metadata": {},
   "outputs": [
    {
     "name": "stdout",
     "output_type": "stream",
     "text": [
      "\n",
      "\n",
      "\n",
      "\n",
      "\n",
      "\n",
      "\n",
      "\n",
      "\n",
      "Data Engineer  - Careers at Apple\n",
      "\n",
      "\n",
      "\n",
      "\n",
      "\n",
      "\n",
      "\n",
      "AppleStoreMaciPadiPhoneWatchVisionAirPodsTV & HomeEntertainmentAccessoriesSupport\n",
      "\n",
      "\n",
      "0+\n",
      "Careers at AppleOpen MenuClose Menu\n",
      "\n",
      "      Work at Apple\n",
      "    \n",
      " \n",
      "\n",
      "      Life at Apple\n",
      "    \n",
      " \n",
      "\n",
      "      Profile\n",
      "    \n",
      " \n",
      "\n",
      "      Sign In\n",
      "    \n",
      " \n",
      "Search\n",
      "Jobs at Apple\n",
      "Data Engineer Austin, Texas, United StatesSoftware and ServicesAdd to Favorites Data Engineer Removed from favoritesAdd a favoriteCloseTo view your favorites, sign in with your Apple Account.Sign InDon’t have an Apple Account?Create one nowForgot your Apple Account or password?Submit ResumeData Engineer Back to search resultsSummaryPosted: Mar 12, 2025Weekly Hours: 40 Role Number:200572938Apple is a place where extraordinary people gather to do their best work. If you’re excited by the idea of making a real impact, a career with Apple might be your dream job…just be prepared to dream big! An expert in analytics, you are passionate about turning data into impactful insights, and driving creative data engineering solutions. You are skilled at creating analytical models and interactive visualizations with a strong business acumen. You are a motivated self-starter, comfortable navigating through ambiguity to evaluate complex data, analyze data from multiple angles, build analytical workflows, and deliver findings that directly impact the business. If this describes you, then you should consider joining us.\n",
      "DescriptionDescriptionMake a difference.\n",
      "The Operations team at Apple is looking for a dynamic and creative candidate for the role of a Data Engineer. The role is an opportunity for a self-driven individual to utilize their business acumen, process knowledge, and apply analytical skills to deliver value-added solutions and automation to the Operations team at Apple.\n",
      "\n",
      "The engineer needs to be adept in the use of data modeling, statistical tools and techniques to be able to identify process gaps, root cause issues and recommend optimal, drive data-driven solutions. Knowledge and hands on experience of quantitative analysis in the supply chain domain is expected. Ability to select appropriate tools and techniques, create frameworks to drive policy changes and implementing corrective actions to improve the customer experience will be a measure of success for this role. Excellent verbal and written communication & presentation skills using data visualization applications is desired.\n",
      "\n",
      "Ability to think strategically and execute on operational strategies to make definitive and measurable improvements for the team along with providing influence in a cross functional environment across geographies is a must have. Ability to crisply articulate findings to senior leadership and a passion for driving excellence is desired. Must be able to work in a fast paced environment, perform effectively under dynamic conditions such as directional changes, tight deadlines and limited resources. Organizational skills and the ability to multi task are essential. Commitment to keeping up to date with industry leading technologies, techniques, tools and best practices and experience with SQL, Python and Tableau experience is an absolute must. \n",
      "\n",
      "An understanding of data sources & relationships, reporting tools and systems knowledge is required as well as experience with measuring and managing data quality. Create clear and concise technical documentation, including data dictionaries, process flows, and system architecture diagrams as well as a positive attitude and the ability to communicate and negotiate are necessary to be successful in this role.Minimum QualificationsMinimum QualificationsBS/MS in Data Mining, Statistics, Machine Learning, Computer Science, Operations Research or related fieldMinimum 5 years experience within Operations and Supply Chain desiredProven data driven decision making skillsExpert level fluency with Snowflake, SQL, Tableau, and Python is requiredExperience with data modeling in Snowflake, performance tuning the queries and optimizationComputational analysis using Snowflake, mySQL, Teradata, Python, Tableau, Business Objects, JMP, R, Matlab, SPSS and working knowledge of SAP/S4 data structuresKey QualificationsKey QualificationsPreferred QualificationsPreferred QualificationsAbility to bridge the gap between business needs and technical capabilities, translating complex analytical requirements into actionable data solutions and automation across tools and platformsProvide reporting and insights to the operations team and external partnersAbility to operate in a fast paced, rapidly changing environmentAbility to rapidly learn and adapt to business changesCreate and maintain reports, create and manage data models, leverage data across complex hierarchies using multiple data sourcesLeverage process improvement techniques to drive improvements in data qualityDetail oriented and self-motivated individual able to function effectively when working independently or in a teamDesign, develop, and maintain data pipelines and architectures to support analytical needsExcellent communication and presentation skillsPerform testing to support system implementations and upgradesLeverage industry best practices for data analysis and share across the operations communityKnowledge of advanced data engineering concepts including data warehousing, data modeling, and experience in managing a self-serve modelInfluence the architecture of core data models that fuel the Operations teamsHelp functions solve problems and improve their processes, products, and servicesEducation & ExperienceEducation & ExperienceAdditional RequirementsAdditional RequirementsMoreApple is an equal opportunity employer that is committed to inclusion and diversity. We take affirmative action to ensure equal opportunity for all applicants without regard to race, color, religion, sex, sexual orientation, gender identity, national origin, disability, Veteran status, or other legally protected characteristics. Learn more about your EEO rights as an applicant.Submit ResumeData Engineer Back to search resultsAdd to Favorites Data Engineer Removed from favoritesAdd a favoriteCloseTo view your favorites, sign in with your Apple Account.Sign InDon’t have an Apple Account?Create one nowForgot your Apple Account or password?See all roles in  Austin  \n",
      "Apple FooterApple is an equal opportunity employer that is committed to inclusion and diversity. We take affirmative action to ensure equal opportunity for all applicants without regard to race, color, religion, sex, sexual orientation, gender identity, national origin, disability, Veteran status, or other legally protected characteristics. Learn more about your EEO rights as an applicant (Opens in a new window) .Apple will not discriminate or retaliate against applicants who inquire about, disclose, or discuss their compensation or that of other applicants.  United States Department of Labor. Learn more (Opens in a new window) .Apple participates in the E-Verify program in certain locations as required by law. Learn more about the E-Verify program (Opens in a new window) .Apple is committed to working with and providing reasonable accommodation to applicants with physical and mental disabilities.  Reasonable Accommodation and Drug Free Workplace policyLearn more (Opens in a new window) .Apple is a drug-free workplace.  Reasonable Accommodation and Drug Free Workplace policyLearn more (Opens in a new window) .Apple will consider for employment all qualified applicants with criminal histories in a manner consistent with applicable law. If you’re applying for a position in San Francisco, review the  San Francisco Fair Chance Ordinance guidelines (opens in a new window)  applicable in your area.It is unlawful in Massachusetts to require or administer a lie detector test as a condition of employment or continued employment. An employer who violates this law shall be subject to criminal penalties and civil liability.AppleCareers at AppleCareers at AppleShop and LearnShop and LearnStoreMaciPadiPhoneWatchVisionAirPodsTV & HomeAirTagAccessoriesGift CardsApple WalletApple WalletWalletApple CardApple PayApple CashAccountAccountManage Your Apple AccountApple Store AccountiCloud.comEntertainmentEntertainmentApple OneApple TV+Apple MusicApple ArcadeApple Fitness+Apple News+Apple PodcastsApple BooksApp StoreApple StoreApple StoreFind a StoreGenius BarToday at AppleGroup ReservationsApple CampApple Store AppCertified RefurbishedApple Trade InFinancingCarrier Deals at AppleOrder StatusShopping HelpFor BusinessFor BusinessApple and BusinessShop for BusinessFor EducationFor EducationApple and EducationShop for K-12Shop for CollegeFor HealthcareFor HealthcareApple in HealthcareMac in HealthcareHealth on Apple WatchHealth Records on iPhone and iPadFor GovernmentFor GovernmentShop for GovernmentShop for Veterans and MilitaryApple ValuesApple ValuesAccessibilityEducationEnvironmentInclusion and DiversityPrivacyRacial Equity and JusticeSupply ChainAbout AppleAbout AppleNewsroomApple LeadershipCareer OpportunitiesInvestorsEthics & ComplianceEventsContact Apple\n",
      "More ways to shop: Find an Apple Store or other retailer near you. Or call 1-800-MY-APPLE.United StatesCopyright © 2025 Apple Inc. All rights reserved.Privacy PolicyTerms of UseSales and RefundsLegalSite Map\n",
      "\n",
      "\n",
      "\n",
      "\n",
      "\n",
      "\n",
      "\n",
      "\n",
      "\n",
      "\n",
      "\n"
     ]
    }
   ],
   "source": [
    "from langchain_community.document_loaders import WebBaseLoader\n",
    "\n",
    "loader = WebBaseLoader(\"https://jobs.apple.com/en-us/details/200572938/data-engineer?team=SFTWR\")\n",
    "page_data = loader.load().pop().page_content\n",
    "print(page_data)"
   ]
  },
  {
   "cell_type": "code",
   "execution_count": 19,
   "id": "43a744b3-66b7-43c6-87af-2fe40f0aabd8",
   "metadata": {},
   "outputs": [
    {
     "name": "stdout",
     "output_type": "stream",
     "text": [
      "```json\n",
      "[\n",
      "  {\n",
      "    \"role\": \"Data Engineer\",\n",
      "    \"experience\": \"Minimum 5 years experience within Operations and Supply Chain desired\",\n",
      "    \"skills\": [\n",
      "      \"Expert level fluency with Snowflake, SQL, Tableau, and Python\",\n",
      "      \"Experience with data modeling in Snowflake, performance tuning the queries and optimization\",\n",
      "      \"Computational analysis using Snowflake, mySQL, Teradata, Python, Tableau, Business Objects, JMP, R, Matlab, SPSS and working knowledge of SAP/S4 data structures\"\n",
      "    ],\n",
      "    \"description\": \"The Operations team at Apple is looking for a dynamic and creative candidate for the role of a Data Engineer. The role is an opportunity for a self-driven individual to utilize their business acumen, process knowledge, and apply analytical skills to deliver value-added solutions and automation to the Operations team at Apple.\"\n",
      "  }\n",
      "]\n",
      "```\n",
      "\n",
      "Note: The extracted information is based on the provided text and might not be comprehensive or up-to-date.\n"
     ]
    }
   ],
   "source": [
    "from langchain_core.prompts import PromptTemplate\n",
    "prompt_extract = PromptTemplate.from_template(\n",
    "    \"\"\" Scraped text from website\n",
    "    {page_data}\n",
    "    ### INSTRUCTION:\n",
    "    The scraped text is from the career's page of a website.\n",
    "    Your job is to extract the job postings and return them in JSON format containing\n",
    "    following keys: 'role', 'experience', 'skills' and 'description'.\n",
    "    Only return the valid JSON.\n",
    "    ### VALID Json (NO PREAMBLE):\n",
    "    \"\"\"\n",
    ")\n",
    "chain_extract = prompt_extract | llm\n",
    "res = chain_extract.invoke(input={'page_data':page_data})\n",
    "print(res.content)"
   ]
  },
  {
   "cell_type": "code",
   "execution_count": 21,
   "id": "43ef3f27-11e3-416c-8b25-bf3e19c33a94",
   "metadata": {},
   "outputs": [
    {
     "data": {
      "text/plain": [
       "[{'role': 'Data Engineer',\n",
       "  'experience': 'Minimum 5 years experience within Operations and Supply Chain desired',\n",
       "  'skills': ['Expert level fluency with Snowflake, SQL, Tableau, and Python',\n",
       "   'Experience with data modeling in Snowflake, performance tuning the queries and optimization',\n",
       "   'Computational analysis using Snowflake, mySQL, Teradata, Python, Tableau, Business Objects, JMP, R, Matlab, SPSS and working knowledge of SAP/S4 data structures'],\n",
       "  'description': 'The Operations team at Apple is looking for a dynamic and creative candidate for the role of a Data Engineer. The role is an opportunity for a self-driven individual to utilize their business acumen, process knowledge, and apply analytical skills to deliver value-added solutions and automation to the Operations team at Apple.'}]"
      ]
     },
     "execution_count": 21,
     "metadata": {},
     "output_type": "execute_result"
    }
   ],
   "source": [
    "from langchain_core.output_parsers import JsonOutputParser\n",
    "json_parser = JsonOutputParser()\n",
    "json_res = json_parser.parse(res.content)\n",
    "json_res"
   ]
  },
  {
   "cell_type": "code",
   "execution_count": 33,
   "id": "6d461606-e448-4800-b8c0-5bd7ac9cbaf6",
   "metadata": {},
   "outputs": [
    {
     "data": {
      "text/html": [
       "<div>\n",
       "<style scoped>\n",
       "    .dataframe tbody tr th:only-of-type {\n",
       "        vertical-align: middle;\n",
       "    }\n",
       "\n",
       "    .dataframe tbody tr th {\n",
       "        vertical-align: top;\n",
       "    }\n",
       "\n",
       "    .dataframe thead th {\n",
       "        text-align: right;\n",
       "    }\n",
       "</style>\n",
       "<table border=\"1\" class=\"dataframe\">\n",
       "  <thead>\n",
       "    <tr style=\"text-align: right;\">\n",
       "      <th></th>\n",
       "      <th>Role</th>\n",
       "      <th>Skills</th>\n",
       "      <th>Links</th>\n",
       "    </tr>\n",
       "  </thead>\n",
       "  <tbody>\n",
       "    <tr>\n",
       "      <th>0</th>\n",
       "      <td>Data Analyst</td>\n",
       "      <td>SQL, Python, Tableau, PowerBI</td>\n",
       "      <td>https://example.com/data-analyst</td>\n",
       "    </tr>\n",
       "    <tr>\n",
       "      <th>1</th>\n",
       "      <td>Data Scientist</td>\n",
       "      <td>Python, sklearn, matplotlib, ML</td>\n",
       "      <td>https://example.com/data-scientist</td>\n",
       "    </tr>\n",
       "    <tr>\n",
       "      <th>2</th>\n",
       "      <td>Machine Learning Engineer</td>\n",
       "      <td>Python, TensorFlow, PyTorch, ML, sklearn</td>\n",
       "      <td>https://example.com/ml-engineer</td>\n",
       "    </tr>\n",
       "    <tr>\n",
       "      <th>3</th>\n",
       "      <td>Business Intelligence Analyst</td>\n",
       "      <td>SQL, PowerBI, Tableau, Excel</td>\n",
       "      <td>https://example.com/bi-analyst</td>\n",
       "    </tr>\n",
       "    <tr>\n",
       "      <th>4</th>\n",
       "      <td>Data Engineer</td>\n",
       "      <td>Python, SQL, Spark, Airflow, Snowflake</td>\n",
       "      <td>https://example.com/data-engineer</td>\n",
       "    </tr>\n",
       "  </tbody>\n",
       "</table>\n",
       "</div>"
      ],
      "text/plain": [
       "                            Role                                    Skills  \\\n",
       "0                   Data Analyst             SQL, Python, Tableau, PowerBI   \n",
       "1                 Data Scientist           Python, sklearn, matplotlib, ML   \n",
       "2      Machine Learning Engineer  Python, TensorFlow, PyTorch, ML, sklearn   \n",
       "3  Business Intelligence Analyst              SQL, PowerBI, Tableau, Excel   \n",
       "4                  Data Engineer    Python, SQL, Spark, Airflow, Snowflake   \n",
       "\n",
       "                                Links  \n",
       "0    https://example.com/data-analyst  \n",
       "1  https://example.com/data-scientist  \n",
       "2     https://example.com/ml-engineer  \n",
       "3      https://example.com/bi-analyst  \n",
       "4   https://example.com/data-engineer  "
      ]
     },
     "execution_count": 33,
     "metadata": {},
     "output_type": "execute_result"
    }
   ],
   "source": [
    "import pandas as pd\n",
    "df = pd.read_csv(\"roles_skills_links.csv\")\n",
    "df.head()"
   ]
  },
  {
   "cell_type": "code",
   "execution_count": 55,
   "id": "b3ce84ab-9a0d-4b9f-b277-c77804d1dfff",
   "metadata": {},
   "outputs": [],
   "source": [
    "import chromadb\n",
    "import uuid\n",
    "chroma_client = chromadb.PersistentClient('vectorstore')\n",
    "collection_names = chroma_client.list_collections()\n",
    "if \"skills\" not in collection_names:\n",
    "    collection = chroma_client.create_collection(name=\"skills\")\n",
    "else:\n",
    "    collection = chroma_client.get_collection(name=\"skills\")\n",
    "\n",
    "if not collection.count():\n",
    "    for _, row in df.iterrows():\n",
    "        collection.add(documents=row[\"Skills\"],\n",
    "                        metadatas={\"links\":row[\"Links\"]},\n",
    "                        ids=[str(uuid.uuid4())])"
   ]
  },
  {
   "cell_type": "code",
   "execution_count": 71,
   "id": "751e129d-726c-4dee-bd7a-29c94176efbe",
   "metadata": {},
   "outputs": [
    {
     "data": {
      "text/plain": [
       "['Expert level fluency with Snowflake, SQL, Tableau, and Python',\n",
       " 'Experience with data modeling in Snowflake, performance tuning the queries and optimization',\n",
       " 'Computational analysis using Snowflake, mySQL, Teradata, Python, Tableau, Business Objects, JMP, R, Matlab, SPSS and working knowledge of SAP/S4 data structures']"
      ]
     },
     "execution_count": 71,
     "metadata": {},
     "output_type": "execute_result"
    }
   ],
   "source": [
    "job= json_res[0]\n",
    "job['skills']"
   ]
  },
  {
   "cell_type": "code",
   "execution_count": 67,
   "id": "1c9f2299-cb7d-46d4-8957-fc6292032ac6",
   "metadata": {},
   "outputs": [
    {
     "data": {
      "text/plain": [
       "[[{'links': 'https://example.com/data-engineer'},\n",
       "  {'links': 'https://example.com/data-architect'}],\n",
       " [{'links': 'https://example.com/data-architect'},\n",
       "  {'links': 'https://example.com/data-engineer'}],\n",
       " [{'links': 'https://example.com/data-architect'},\n",
       "  {'links': 'https://example.com/statistician'}]]"
      ]
     },
     "execution_count": 67,
     "metadata": {},
     "output_type": "execute_result"
    }
   ],
   "source": [
    "links = collection.query(query_texts=job['skills'],n_results=2).get('metadatas')\n",
    "links"
   ]
  },
  {
   "cell_type": "code",
   "execution_count": 69,
   "id": "8097ac05-204c-4b9c-abfb-e84765b61f81",
   "metadata": {},
   "outputs": [
    {
     "name": "stdout",
     "output_type": "stream",
     "text": [
      "Subject: Application for Data Engineer Role at Apple\n",
      "\n",
      "Dear Hiring Manager,\n",
      "\n",
      "I am writing to express my interest in the Data Engineer position at Apple's Operations team. As a seasoned Data Engineer with 3 years of experience at TCS, I am confident that my skills and expertise align with the requirements of the role.\n",
      "\n",
      "With a strong background in data modeling, performance tuning, and optimization using Snowflake, SQL, Tableau, and Python, I am well-equipped to deliver value-added solutions and automation to the Operations team at Apple. My experience in computational analysis using various tools such as Snowflake, mySQL, Teradata, Python, Tableau, Business Objects, JMP, R, Matlab, and SPSS has provided me with a unique understanding of data structures and their applications.\n",
      "\n",
      "Although I may not meet the minimum 5 years of experience requirement, I am a self-driven individual with a strong passion for learning and growth. I am confident that my enthusiasm, business acumen, and process knowledge will enable me to make a significant contribution to the Operations team at Apple.\n",
      "\n",
      "I am particularly drawn to this role at Apple because of the opportunity to work with a dynamic and creative team, and to apply my analytical skills to deliver innovative solutions. I am excited about the prospect of joining a company that values innovation, creativity, and customer satisfaction.\n",
      "\n",
      "I have attached my resume for your review. I would welcome the opportunity to discuss my application and how my skills and experience align with the requirements of the role. Please do not hesitate to contact me if you require any additional information.\n",
      "\n",
      "Thank you for considering my application.\n",
      "\n",
      "Best regards,\n",
      "\n",
      "Bikramjeet Singh\n"
     ]
    }
   ],
   "source": [
    "prompt_email= PromptTemplate.from_template(\n",
    "    \"\"\"\n",
    "###JOB DESCRIPTION:\n",
    "{job_description}\n",
    "\n",
    "### INSTRUCTION:\n",
    "You are Bikramjeet Singh, an experienced Data Engineer at TCS(an IT Consultant company) with 3 years of experience. \n",
    "You job is to write mail to the Hiring manager for the job at their company to consider you for the the role at their company.\n",
    "Do not provide preamble.\n",
    "### EMAIL (NO PREAMBLE\n",
    "\n",
    "\"\"\"\n",
    ")\n",
    "chain_email = prompt_email | llm\n",
    "res = chain_email.invoke({\"job_description\":str(job),\"link_list\":links})\n",
    "print(res.content)"
   ]
  }
 ],
 "metadata": {
  "kernelspec": {
   "display_name": "Python [conda env:base] *",
   "language": "python",
   "name": "conda-base-py"
  },
  "language_info": {
   "codemirror_mode": {
    "name": "ipython",
    "version": 3
   },
   "file_extension": ".py",
   "mimetype": "text/x-python",
   "name": "python",
   "nbconvert_exporter": "python",
   "pygments_lexer": "ipython3",
   "version": "3.12.7"
  }
 },
 "nbformat": 4,
 "nbformat_minor": 5
}
